{
 "cells": [
  {
   "cell_type": "markdown",
   "source": [
    "# Transform using Ridge Regression"
   ],
   "metadata": {
    "collapsed": false
   },
   "id": "839d74ff99c08487"
  },
  {
   "cell_type": "code",
   "execution_count": 1,
   "id": "initial_id",
   "metadata": {
    "collapsed": true,
    "ExecuteTime": {
     "end_time": "2024-03-19T14:00:52.847951Z",
     "start_time": "2024-03-19T14:00:51.427786Z"
    }
   },
   "outputs": [],
   "source": "from SVM_Experiments import SVMExperiment"
  },
  {
   "cell_type": "code",
   "outputs": [],
   "source": [
    "nyu_dataset_directory = '/Users/balazsmorvay/PycharmProjects/VAE/Assets/NYU_all'\n",
    "um1_dataset_directory = '/Users/balazsmorvay/PycharmProjects/VAE/Assets/UM_1_all'\n",
    "merged_set_directory = '/Users/balazsmorvay/PycharmProjects/VAE/Assets/NYU_UM1_merged'"
   ],
   "metadata": {
    "collapsed": false,
    "ExecuteTime": {
     "end_time": "2024-03-19T14:00:52.850542Z",
     "start_time": "2024-03-19T14:00:52.848983Z"
    }
   },
   "id": "17abc71d707324ca",
   "execution_count": 2
  },
  {
   "cell_type": "code",
   "outputs": [],
   "source": [
    "experiment = SVMExperiment(train_dir=nyu_dataset_directory,\n",
    "                                test_dir=um1_dataset_directory,\n",
    "                                train_site_name='NYU',\n",
    "                                test_site_name='UM1',\n",
    "                                c_values=[1.0, 5.0, 10.0, 20.0])"
   ],
   "metadata": {
    "collapsed": false,
    "ExecuteTime": {
     "end_time": "2024-03-19T14:00:55.451514Z",
     "start_time": "2024-03-19T14:00:52.851024Z"
    }
   },
   "id": "c014643359476630",
   "execution_count": 3
  },
  {
   "cell_type": "code",
   "outputs": [
    {
     "name": "stderr",
     "output_type": "stream",
     "text": [
      "2024/03/19 15:00:55 INFO mlflow.tracking.fluent: Experiment with name '2024-03-19 15:00:55;Train:NYU,test:UM1,extra:' does not exist. Creating a new experiment.\n"
     ]
    },
    {
     "name": "stdout",
     "output_type": "stream",
     "text": [
      "[LibSVM]......\n",
      "Warning: using -h 0 may be faster\n",
      "*.\n",
      "Warning: using -h 0 may be faster\n",
      "*\n",
      "optimization finished, #iter = 7033\n",
      "obj = -2785.392352, rho = -1.740499\n",
      "nSV = 5592, nBSV = 3976\n",
      "Total nSV = 5592\n"
     ]
    },
    {
     "name": "stderr",
     "output_type": "stream",
     "text": [
      "/Users/balazsmorvay/anaconda3/envs/fmri_classifier/lib/python3.11/site-packages/_distutils_hack/__init__.py:33: UserWarning: Setuptools is replacing distutils.\n",
      "  warnings.warn(\"Setuptools is replacing distutils.\")\n"
     ]
    },
    {
     "name": "stdout",
     "output_type": "stream",
     "text": [
      "[LibSVM]..\n",
      "Warning: using -h 0 may be faster\n",
      "*.\n",
      "Warning: using -h 0 may be faster\n",
      "*\n",
      "optimization finished, #iter = 3023\n",
      "obj = -2867.469721, rho = -1.662221\n",
      "nSV = 1215, nBSV = 629\n",
      "Total nSV = 1215\n",
      "[LibSVM]..\n",
      "Warning: using -h 0 may be faster\n",
      "*\n",
      "optimization finished, #iter = 2575\n",
      "obj = -2893.957494, rho = -1.645709\n",
      "nSV = 663, nBSV = 361\n",
      "Total nSV = 663\n",
      "[LibSVM]..\n",
      "Warning: using -h 0 may be faster\n",
      "*\n",
      "optimization finished, #iter = 2389\n",
      "obj = -2915.531002, rho = -1.682234\n",
      "nSV = 388, nBSV = 141\n",
      "Total nSV = 388\n"
     ]
    }
   ],
   "source": [
    "experiment.perform_experiment()"
   ],
   "metadata": {
    "collapsed": false,
    "ExecuteTime": {
     "end_time": "2024-03-19T14:06:09.387582Z",
     "start_time": "2024-03-19T14:00:55.452245Z"
    }
   },
   "id": "c1299708840cce45",
   "execution_count": 4
  }
 ],
 "metadata": {
  "kernelspec": {
   "display_name": "Python 3",
   "language": "python",
   "name": "python3"
  },
  "language_info": {
   "codemirror_mode": {
    "name": "ipython",
    "version": 2
   },
   "file_extension": ".py",
   "mimetype": "text/x-python",
   "name": "python",
   "nbconvert_exporter": "python",
   "pygments_lexer": "ipython2",
   "version": "2.7.6"
  }
 },
 "nbformat": 4,
 "nbformat_minor": 5
}
