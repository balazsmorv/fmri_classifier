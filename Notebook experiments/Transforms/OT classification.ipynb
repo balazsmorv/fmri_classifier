{
 "cells": [
  {
   "cell_type": "code",
   "id": "initial_id",
   "metadata": {
    "collapsed": true,
    "ExecuteTime": {
     "end_time": "2024-04-18T19:06:46.259774Z",
     "start_time": "2024-04-18T19:06:44.892630Z"
    }
   },
   "source": [
    "import numpy as np\n",
    "import ot\n",
    "from SVM_Experiments import SVMExperiment\n",
    "from Data.Dataset import LatentFMRIDataset\n",
    "import matplotlib.pylab as pl\n",
    "import ot.plot\n",
    "from sklearn.utils import shuffle"
   ],
   "outputs": [],
   "execution_count": 1
  },
  {
   "metadata": {
    "ExecuteTime": {
     "end_time": "2024-04-18T19:10:13.074014Z",
     "start_time": "2024-04-18T19:10:08.720649Z"
    }
   },
   "cell_type": "code",
   "source": [
    "nyu_dataset_directory = '/Users/balazsmorvay/PycharmProjects/VAE/Assets/NYU_all'\n",
    "um1_dataset_directory = '/Users/balazsmorvay/PycharmProjects/VAE/Assets/UM_1_all'\n",
    "merged_set_directory = '/Users/balazsmorvay/PycharmProjects/VAE/Assets/NYU_UM1_merged'\n",
    "\n",
    "train_data = LatentFMRIDataset(data_dir=nyu_dataset_directory).get_all_items()\n",
    "test_data = LatentFMRIDataset(data_dir=um1_dataset_directory).get_all_items()\n",
    "\n",
    "number_of_datapoints = 2000\n",
    "X_train = train_data['X']\n",
    "y_train = train_data['y']\n",
    "X_test = test_data['X']\n",
    "y_test = test_data['y']\n",
    "X_test, y_test = shuffle(X_test, y_test, random_state=41)\n",
    "X_train = X_train.reshape((X_train.shape[0], -1))[0:number_of_datapoints]\n",
    "X_test = X_test.reshape((X_test.shape[0], -1))[0:number_of_datapoints]\n",
    "y_train = y_train[0:number_of_datapoints]\n",
    "y_test = y_test[0:number_of_datapoints]"
   ],
   "id": "a950e6091ae88b67",
   "outputs": [],
   "execution_count": 7
  },
  {
   "metadata": {
    "ExecuteTime": {
     "end_time": "2024-04-18T19:10:13.077788Z",
     "start_time": "2024-04-18T19:10:13.075139Z"
    }
   },
   "cell_type": "code",
   "source": "X_train.shape, y_train.shape, X_test.shape, y_test.shape",
   "id": "a2d916e5e0530015",
   "outputs": [
    {
     "data": {
      "text/plain": [
       "((2000, 1152), (2000,), (2000, 1152), (2000,))"
      ]
     },
     "execution_count": 8,
     "metadata": {},
     "output_type": "execute_result"
    }
   ],
   "execution_count": 8
  },
  {
   "metadata": {
    "ExecuteTime": {
     "end_time": "2024-04-18T19:10:13.080056Z",
     "start_time": "2024-04-18T19:10:13.078502Z"
    }
   },
   "cell_type": "code",
   "source": [
    "Xs = X_test\n",
    "Xt = X_train\n",
    "ys = y_test\n",
    "yt = y_train"
   ],
   "id": "ce042767542bafcd",
   "outputs": [],
   "execution_count": 9
  },
  {
   "metadata": {
    "ExecuteTime": {
     "end_time": "2024-04-18T19:10:20.076892Z",
     "start_time": "2024-04-18T19:10:19.359496Z"
    }
   },
   "cell_type": "code",
   "source": [
    "ot_emd = ot.da.EMDTransport()\n",
    "ot_emd.fit(Xs=Xs, ys=ys, Xt=Xt, yt=yt)"
   ],
   "id": "7ded500d5c121235",
   "outputs": [
    {
     "data": {
      "text/plain": [
       "<ot.da.EMDTransport at 0x344d83b50>"
      ]
     },
     "execution_count": 10,
     "metadata": {},
     "output_type": "execute_result"
    }
   ],
   "execution_count": 10
  },
  {
   "metadata": {
    "ExecuteTime": {
     "end_time": "2024-04-18T19:11:57.409453Z",
     "start_time": "2024-04-18T19:11:57.275471Z"
    }
   },
   "cell_type": "code",
   "source": "transp_Xs_emd = ot_emd.transform(Xs=Xs) # transport train data",
   "id": "6212b34916e71bc4",
   "outputs": [],
   "execution_count": 12
  },
  {
   "metadata": {
    "ExecuteTime": {
     "end_time": "2024-04-18T19:11:58.711421Z",
     "start_time": "2024-04-18T19:11:58.688211Z"
    }
   },
   "cell_type": "code",
   "source": "X_train.mean(), X_train.std(), X_test.mean(), X_test.std(), transp_Xs_emd.mean(), transp_Xs_emd.std()",
   "id": "15e9c7157d27515a",
   "outputs": [
    {
     "data": {
      "text/plain": [
       "(0.43661721659863056,\n",
       " 0.15744546207760068,\n",
       " 0.49159694777673574,\n",
       " 0.17991162163963623,\n",
       " 0.43661721659863056,\n",
       " 0.15744546207760068)"
      ]
     },
     "execution_count": 13,
     "metadata": {},
     "output_type": "execute_result"
    }
   ],
   "execution_count": 13
  }
 ],
 "metadata": {
  "kernelspec": {
   "display_name": "Python 3",
   "language": "python",
   "name": "python3"
  },
  "language_info": {
   "codemirror_mode": {
    "name": "ipython",
    "version": 2
   },
   "file_extension": ".py",
   "mimetype": "text/x-python",
   "name": "python",
   "nbconvert_exporter": "python",
   "pygments_lexer": "ipython2",
   "version": "2.7.6"
  }
 },
 "nbformat": 4,
 "nbformat_minor": 5
}
