{
 "cells": [
  {
   "cell_type": "code",
   "execution_count": 1,
   "id": "initial_id",
   "metadata": {
    "collapsed": true,
    "ExecuteTime": {
     "end_time": "2024-03-19T14:52:30.019628Z",
     "start_time": "2024-03-19T14:52:28.563185Z"
    }
   },
   "outputs": [],
   "source": [
    "from SVM_Experiments import SVMProcrustes"
   ]
  },
  {
   "cell_type": "code",
   "outputs": [],
   "source": [
    "nyu_dataset_directory = '/Users/balazsmorvay/PycharmProjects/VAE/Assets/NYU_all'\n",
    "um1_dataset_directory = '/Users/balazsmorvay/PycharmProjects/VAE/Assets/UM_1_all'\n",
    "merged_set_directory = '/Users/balazsmorvay/PycharmProjects/VAE/Assets/NYU_UM1_merged'"
   ],
   "metadata": {
    "collapsed": false,
    "ExecuteTime": {
     "end_time": "2024-03-19T14:52:30.022418Z",
     "start_time": "2024-03-19T14:52:30.020747Z"
    }
   },
   "id": "d9495b95011a6f37",
   "execution_count": 2
  },
  {
   "cell_type": "code",
   "outputs": [
    {
     "name": "stdout",
     "output_type": "stream",
     "text": [
      "10030 data points from each class are used for procrustes\n"
     ]
    }
   ],
   "source": [
    "experiment = SVMProcrustes(train_dir=nyu_dataset_directory,\n",
    "                                test_dir=um1_dataset_directory,\n",
    "                                train_site_name='NYU',\n",
    "                                test_site_name='UM1',\n",
    "                                c_values=[1.0, 5.0, 10.0, 20.0])"
   ],
   "metadata": {
    "collapsed": false,
    "ExecuteTime": {
     "end_time": "2024-03-19T14:52:36.087578Z",
     "start_time": "2024-03-19T14:52:30.022853Z"
    }
   },
   "id": "37f892d549a7e9ed",
   "execution_count": 3
  },
  {
   "cell_type": "code",
   "outputs": [
    {
     "name": "stderr",
     "output_type": "stream",
     "text": [
      "2024/03/19 15:52:36 INFO mlflow.tracking.fluent: Experiment with name '2024-03-19 15:52:36;Train:NYU,test:UM1,extra:Orthogonal Procrustes' does not exist. Creating a new experiment.\n"
     ]
    },
    {
     "name": "stdout",
     "output_type": "stream",
     "text": [
      "[LibSVM]......\n",
      "Warning: using -h 0 may be faster\n",
      "*.\n",
      "Warning: using -h 0 may be faster\n",
      "*\n",
      "optimization finished, #iter = 7033\n",
      "obj = -2785.392352, rho = -1.740499\n",
      "nSV = 5592, nBSV = 3976\n",
      "Total nSV = 5592\n"
     ]
    },
    {
     "name": "stderr",
     "output_type": "stream",
     "text": [
      "/Users/balazsmorvay/anaconda3/envs/fmri_classifier/lib/python3.11/site-packages/_distutils_hack/__init__.py:33: UserWarning: Setuptools is replacing distutils.\n",
      "  warnings.warn(\"Setuptools is replacing distutils.\")\n"
     ]
    },
    {
     "name": "stdout",
     "output_type": "stream",
     "text": [
      "[LibSVM]..\n",
      "Warning: using -h 0 may be faster\n",
      "*.\n",
      "Warning: using -h 0 may be faster\n",
      "*\n",
      "optimization finished, #iter = 3023\n",
      "obj = -2867.469721, rho = -1.662221\n",
      "nSV = 1215, nBSV = 629\n",
      "Total nSV = 1215\n",
      "[LibSVM]..\n",
      "Warning: using -h 0 may be faster\n",
      "*\n",
      "optimization finished, #iter = 2575\n",
      "obj = -2893.957494, rho = -1.645709\n",
      "nSV = 663, nBSV = 361\n",
      "Total nSV = 663\n",
      "[LibSVM]..\n",
      "Warning: using -h 0 may be faster\n",
      "*\n",
      "optimization finished, #iter = 2389\n",
      "obj = -2915.531002, rho = -1.682234\n",
      "nSV = 388, nBSV = 141\n",
      "Total nSV = 388\n"
     ]
    }
   ],
   "source": [
    "experiment.perform_experiment()"
   ],
   "metadata": {
    "collapsed": false,
    "ExecuteTime": {
     "end_time": "2024-03-19T14:57:47.312896Z",
     "start_time": "2024-03-19T14:52:36.088816Z"
    }
   },
   "id": "d8481e591be16818",
   "execution_count": 4
  }
 ],
 "metadata": {
  "kernelspec": {
   "display_name": "Python 3",
   "language": "python",
   "name": "python3"
  },
  "language_info": {
   "codemirror_mode": {
    "name": "ipython",
    "version": 2
   },
   "file_extension": ".py",
   "mimetype": "text/x-python",
   "name": "python",
   "nbconvert_exporter": "python",
   "pygments_lexer": "ipython2",
   "version": "2.7.6"
  }
 },
 "nbformat": 4,
 "nbformat_minor": 5
}
