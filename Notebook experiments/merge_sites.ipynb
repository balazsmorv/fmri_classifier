{
 "cells": [
  {
   "cell_type": "code",
   "execution_count": 10,
   "id": "initial_id",
   "metadata": {
    "collapsed": true,
    "ExecuteTime": {
     "end_time": "2024-03-04T12:08:18.917236Z",
     "start_time": "2024-03-04T12:08:18.913398Z"
    }
   },
   "outputs": [],
   "source": [
    "import pandas as pd"
   ]
  },
  {
   "cell_type": "code",
   "execution_count": 11,
   "outputs": [
    {
     "data": {
      "text/plain": "   Unnamed: 0.1  Unnamed: 0      FILE_ID  DX_GROUP  DSM_IV_TR  SEX  \\\n0             0       15720  NYU_0051055         2          0    2   \n1             1       23497  NYU_0051101         2          0    1   \n2             2       16176  NYU_0051058         2          0    2   \n3             3       14526  NYU_0051049         2          0    2   \n4             4        3208  NYU_0050974         1          2    1   \n\n   AGE_AT_SCAN  HANDEDNESS_CATEGORY SITE_ID  EXISTS  TIME_SLICE  \n0       15.950                  NaN     NYU       1         145  \n1       14.425                  NaN     NYU       1          47  \n2       22.110                  NaN     NYU       1          76  \n3       13.220                  NaN     NYU       1           1  \n4       11.560                  NaN     NYU       1          58  ",
      "text/html": "<div>\n<style scoped>\n    .dataframe tbody tr th:only-of-type {\n        vertical-align: middle;\n    }\n\n    .dataframe tbody tr th {\n        vertical-align: top;\n    }\n\n    .dataframe thead th {\n        text-align: right;\n    }\n</style>\n<table border=\"1\" class=\"dataframe\">\n  <thead>\n    <tr style=\"text-align: right;\">\n      <th></th>\n      <th>Unnamed: 0.1</th>\n      <th>Unnamed: 0</th>\n      <th>FILE_ID</th>\n      <th>DX_GROUP</th>\n      <th>DSM_IV_TR</th>\n      <th>SEX</th>\n      <th>AGE_AT_SCAN</th>\n      <th>HANDEDNESS_CATEGORY</th>\n      <th>SITE_ID</th>\n      <th>EXISTS</th>\n      <th>TIME_SLICE</th>\n    </tr>\n  </thead>\n  <tbody>\n    <tr>\n      <th>0</th>\n      <td>0</td>\n      <td>15720</td>\n      <td>NYU_0051055</td>\n      <td>2</td>\n      <td>0</td>\n      <td>2</td>\n      <td>15.950</td>\n      <td>NaN</td>\n      <td>NYU</td>\n      <td>1</td>\n      <td>145</td>\n    </tr>\n    <tr>\n      <th>1</th>\n      <td>1</td>\n      <td>23497</td>\n      <td>NYU_0051101</td>\n      <td>2</td>\n      <td>0</td>\n      <td>1</td>\n      <td>14.425</td>\n      <td>NaN</td>\n      <td>NYU</td>\n      <td>1</td>\n      <td>47</td>\n    </tr>\n    <tr>\n      <th>2</th>\n      <td>2</td>\n      <td>16176</td>\n      <td>NYU_0051058</td>\n      <td>2</td>\n      <td>0</td>\n      <td>2</td>\n      <td>22.110</td>\n      <td>NaN</td>\n      <td>NYU</td>\n      <td>1</td>\n      <td>76</td>\n    </tr>\n    <tr>\n      <th>3</th>\n      <td>3</td>\n      <td>14526</td>\n      <td>NYU_0051049</td>\n      <td>2</td>\n      <td>0</td>\n      <td>2</td>\n      <td>13.220</td>\n      <td>NaN</td>\n      <td>NYU</td>\n      <td>1</td>\n      <td>1</td>\n    </tr>\n    <tr>\n      <th>4</th>\n      <td>4</td>\n      <td>3208</td>\n      <td>NYU_0050974</td>\n      <td>1</td>\n      <td>2</td>\n      <td>1</td>\n      <td>11.560</td>\n      <td>NaN</td>\n      <td>NYU</td>\n      <td>1</td>\n      <td>58</td>\n    </tr>\n  </tbody>\n</table>\n</div>"
     },
     "execution_count": 11,
     "metadata": {},
     "output_type": "execute_result"
    }
   ],
   "source": [
    "nyu = pd.read_csv(filepath_or_buffer='/Users/balazsmorvay/PycharmProjects/VAE/Configurations/ABIDE/NYU_all.csv')\n",
    "nyu.head()"
   ],
   "metadata": {
    "collapsed": false,
    "ExecuteTime": {
     "end_time": "2024-03-04T12:08:21.298918Z",
     "start_time": "2024-03-04T12:08:21.266390Z"
    }
   },
   "id": "2b89ed7a332bf17d"
  },
  {
   "cell_type": "code",
   "execution_count": 12,
   "outputs": [
    {
     "data": {
      "text/plain": "       FILE_ID  DX_GROUP  DSM_IV_TR  SEX  AGE_AT_SCAN  HANDEDNESS_CATEGORY  \\\n0  NYU_0051055         2          0    2       15.950                  NaN   \n1  NYU_0051101         2          0    1       14.425                  NaN   \n2  NYU_0051058         2          0    2       22.110                  NaN   \n3  NYU_0051049         2          0    2       13.220                  NaN   \n4  NYU_0050974         1          2    1       11.560                  NaN   \n\n  SITE_ID  EXISTS  TIME_SLICE  \n0     NYU       1         145  \n1     NYU       1          47  \n2     NYU       1          76  \n3     NYU       1           1  \n4     NYU       1          58  ",
      "text/html": "<div>\n<style scoped>\n    .dataframe tbody tr th:only-of-type {\n        vertical-align: middle;\n    }\n\n    .dataframe tbody tr th {\n        vertical-align: top;\n    }\n\n    .dataframe thead th {\n        text-align: right;\n    }\n</style>\n<table border=\"1\" class=\"dataframe\">\n  <thead>\n    <tr style=\"text-align: right;\">\n      <th></th>\n      <th>FILE_ID</th>\n      <th>DX_GROUP</th>\n      <th>DSM_IV_TR</th>\n      <th>SEX</th>\n      <th>AGE_AT_SCAN</th>\n      <th>HANDEDNESS_CATEGORY</th>\n      <th>SITE_ID</th>\n      <th>EXISTS</th>\n      <th>TIME_SLICE</th>\n    </tr>\n  </thead>\n  <tbody>\n    <tr>\n      <th>0</th>\n      <td>NYU_0051055</td>\n      <td>2</td>\n      <td>0</td>\n      <td>2</td>\n      <td>15.950</td>\n      <td>NaN</td>\n      <td>NYU</td>\n      <td>1</td>\n      <td>145</td>\n    </tr>\n    <tr>\n      <th>1</th>\n      <td>NYU_0051101</td>\n      <td>2</td>\n      <td>0</td>\n      <td>1</td>\n      <td>14.425</td>\n      <td>NaN</td>\n      <td>NYU</td>\n      <td>1</td>\n      <td>47</td>\n    </tr>\n    <tr>\n      <th>2</th>\n      <td>NYU_0051058</td>\n      <td>2</td>\n      <td>0</td>\n      <td>2</td>\n      <td>22.110</td>\n      <td>NaN</td>\n      <td>NYU</td>\n      <td>1</td>\n      <td>76</td>\n    </tr>\n    <tr>\n      <th>3</th>\n      <td>NYU_0051049</td>\n      <td>2</td>\n      <td>0</td>\n      <td>2</td>\n      <td>13.220</td>\n      <td>NaN</td>\n      <td>NYU</td>\n      <td>1</td>\n      <td>1</td>\n    </tr>\n    <tr>\n      <th>4</th>\n      <td>NYU_0050974</td>\n      <td>1</td>\n      <td>2</td>\n      <td>1</td>\n      <td>11.560</td>\n      <td>NaN</td>\n      <td>NYU</td>\n      <td>1</td>\n      <td>58</td>\n    </tr>\n  </tbody>\n</table>\n</div>"
     },
     "execution_count": 12,
     "metadata": {},
     "output_type": "execute_result"
    }
   ],
   "source": [
    "nyu = nyu.drop(labels=['Unnamed: 0', 'Unnamed: 0.1'], axis=1)\n",
    "nyu.head()"
   ],
   "metadata": {
    "collapsed": false,
    "ExecuteTime": {
     "end_time": "2024-03-04T12:08:24.559263Z",
     "start_time": "2024-03-04T12:08:24.546347Z"
    }
   },
   "id": "d5b35a55def1c4ff"
  },
  {
   "cell_type": "code",
   "execution_count": 13,
   "outputs": [
    {
     "data": {
      "text/plain": "   Unnamed: 0       FILE_ID  DX_GROUP  DSM_IV_TR  SEX  AGE_AT_SCAN  \\\n0           0  UM_1_0050272         1          1    1         14.2   \n1           1  UM_1_0050272         1          1    1         14.2   \n2           2  UM_1_0050272         1          1    1         14.2   \n3           3  UM_1_0050272         1          1    1         14.2   \n4           4  UM_1_0050272         1          1    1         14.2   \n\n  HANDEDNESS_CATEGORY SITE_ID  EXISTS  TIME_SLICE  \n0                   R    UM_1       1           0  \n1                   R    UM_1       1           1  \n2                   R    UM_1       1           2  \n3                   R    UM_1       1           3  \n4                   R    UM_1       1           4  ",
      "text/html": "<div>\n<style scoped>\n    .dataframe tbody tr th:only-of-type {\n        vertical-align: middle;\n    }\n\n    .dataframe tbody tr th {\n        vertical-align: top;\n    }\n\n    .dataframe thead th {\n        text-align: right;\n    }\n</style>\n<table border=\"1\" class=\"dataframe\">\n  <thead>\n    <tr style=\"text-align: right;\">\n      <th></th>\n      <th>Unnamed: 0</th>\n      <th>FILE_ID</th>\n      <th>DX_GROUP</th>\n      <th>DSM_IV_TR</th>\n      <th>SEX</th>\n      <th>AGE_AT_SCAN</th>\n      <th>HANDEDNESS_CATEGORY</th>\n      <th>SITE_ID</th>\n      <th>EXISTS</th>\n      <th>TIME_SLICE</th>\n    </tr>\n  </thead>\n  <tbody>\n    <tr>\n      <th>0</th>\n      <td>0</td>\n      <td>UM_1_0050272</td>\n      <td>1</td>\n      <td>1</td>\n      <td>1</td>\n      <td>14.2</td>\n      <td>R</td>\n      <td>UM_1</td>\n      <td>1</td>\n      <td>0</td>\n    </tr>\n    <tr>\n      <th>1</th>\n      <td>1</td>\n      <td>UM_1_0050272</td>\n      <td>1</td>\n      <td>1</td>\n      <td>1</td>\n      <td>14.2</td>\n      <td>R</td>\n      <td>UM_1</td>\n      <td>1</td>\n      <td>1</td>\n    </tr>\n    <tr>\n      <th>2</th>\n      <td>2</td>\n      <td>UM_1_0050272</td>\n      <td>1</td>\n      <td>1</td>\n      <td>1</td>\n      <td>14.2</td>\n      <td>R</td>\n      <td>UM_1</td>\n      <td>1</td>\n      <td>2</td>\n    </tr>\n    <tr>\n      <th>3</th>\n      <td>3</td>\n      <td>UM_1_0050272</td>\n      <td>1</td>\n      <td>1</td>\n      <td>1</td>\n      <td>14.2</td>\n      <td>R</td>\n      <td>UM_1</td>\n      <td>1</td>\n      <td>3</td>\n    </tr>\n    <tr>\n      <th>4</th>\n      <td>4</td>\n      <td>UM_1_0050272</td>\n      <td>1</td>\n      <td>1</td>\n      <td>1</td>\n      <td>14.2</td>\n      <td>R</td>\n      <td>UM_1</td>\n      <td>1</td>\n      <td>4</td>\n    </tr>\n  </tbody>\n</table>\n</div>"
     },
     "execution_count": 13,
     "metadata": {},
     "output_type": "execute_result"
    }
   ],
   "source": [
    "um1 = pd.read_csv(filepath_or_buffer='/Users/balazsmorvay/PycharmProjects/VAE/Configurations/ABIDE/UM_1.csv')\n",
    "um1.head()"
   ],
   "metadata": {
    "collapsed": false,
    "ExecuteTime": {
     "end_time": "2024-03-04T12:08:29.124801Z",
     "start_time": "2024-03-04T12:08:29.096524Z"
    }
   },
   "id": "c7821dd9d94551f"
  },
  {
   "cell_type": "code",
   "execution_count": 14,
   "outputs": [
    {
     "data": {
      "text/plain": "        FILE_ID  DX_GROUP  DSM_IV_TR  SEX  AGE_AT_SCAN HANDEDNESS_CATEGORY  \\\n0  UM_1_0050272         1          1    1         14.2                   R   \n1  UM_1_0050272         1          1    1         14.2                   R   \n2  UM_1_0050272         1          1    1         14.2                   R   \n3  UM_1_0050272         1          1    1         14.2                   R   \n4  UM_1_0050272         1          1    1         14.2                   R   \n\n  SITE_ID  EXISTS  TIME_SLICE  \n0    UM_1       1           0  \n1    UM_1       1           1  \n2    UM_1       1           2  \n3    UM_1       1           3  \n4    UM_1       1           4  ",
      "text/html": "<div>\n<style scoped>\n    .dataframe tbody tr th:only-of-type {\n        vertical-align: middle;\n    }\n\n    .dataframe tbody tr th {\n        vertical-align: top;\n    }\n\n    .dataframe thead th {\n        text-align: right;\n    }\n</style>\n<table border=\"1\" class=\"dataframe\">\n  <thead>\n    <tr style=\"text-align: right;\">\n      <th></th>\n      <th>FILE_ID</th>\n      <th>DX_GROUP</th>\n      <th>DSM_IV_TR</th>\n      <th>SEX</th>\n      <th>AGE_AT_SCAN</th>\n      <th>HANDEDNESS_CATEGORY</th>\n      <th>SITE_ID</th>\n      <th>EXISTS</th>\n      <th>TIME_SLICE</th>\n    </tr>\n  </thead>\n  <tbody>\n    <tr>\n      <th>0</th>\n      <td>UM_1_0050272</td>\n      <td>1</td>\n      <td>1</td>\n      <td>1</td>\n      <td>14.2</td>\n      <td>R</td>\n      <td>UM_1</td>\n      <td>1</td>\n      <td>0</td>\n    </tr>\n    <tr>\n      <th>1</th>\n      <td>UM_1_0050272</td>\n      <td>1</td>\n      <td>1</td>\n      <td>1</td>\n      <td>14.2</td>\n      <td>R</td>\n      <td>UM_1</td>\n      <td>1</td>\n      <td>1</td>\n    </tr>\n    <tr>\n      <th>2</th>\n      <td>UM_1_0050272</td>\n      <td>1</td>\n      <td>1</td>\n      <td>1</td>\n      <td>14.2</td>\n      <td>R</td>\n      <td>UM_1</td>\n      <td>1</td>\n      <td>2</td>\n    </tr>\n    <tr>\n      <th>3</th>\n      <td>UM_1_0050272</td>\n      <td>1</td>\n      <td>1</td>\n      <td>1</td>\n      <td>14.2</td>\n      <td>R</td>\n      <td>UM_1</td>\n      <td>1</td>\n      <td>3</td>\n    </tr>\n    <tr>\n      <th>4</th>\n      <td>UM_1_0050272</td>\n      <td>1</td>\n      <td>1</td>\n      <td>1</td>\n      <td>14.2</td>\n      <td>R</td>\n      <td>UM_1</td>\n      <td>1</td>\n      <td>4</td>\n    </tr>\n  </tbody>\n</table>\n</div>"
     },
     "execution_count": 14,
     "metadata": {},
     "output_type": "execute_result"
    }
   ],
   "source": [
    "um1 = um1.drop(labels=['Unnamed: 0'], axis=1)\n",
    "um1.head()"
   ],
   "metadata": {
    "collapsed": false,
    "ExecuteTime": {
     "end_time": "2024-03-04T12:08:33.085197Z",
     "start_time": "2024-03-04T12:08:33.074664Z"
    }
   },
   "id": "b91199a9524f29bb"
  },
  {
   "cell_type": "code",
   "execution_count": 15,
   "outputs": [
    {
     "data": {
      "text/plain": "            FILE_ID  DX_GROUP  DSM_IV_TR  SEX  AGE_AT_SCAN  \\\n23595  UM_1_0050379         2          0    2         14.3   \n23596  UM_1_0050379         2          0    2         14.3   \n23597  UM_1_0050379         2          0    2         14.3   \n23598  UM_1_0050379         2          0    2         14.3   \n23599  UM_1_0050379         2          0    2         14.3   \n\n      HANDEDNESS_CATEGORY SITE_ID  EXISTS  TIME_SLICE  \n23595                   R    UM_1       1         290  \n23596                   R    UM_1       1         291  \n23597                   R    UM_1       1         292  \n23598                   R    UM_1       1         293  \n23599                   R    UM_1       1         294  ",
      "text/html": "<div>\n<style scoped>\n    .dataframe tbody tr th:only-of-type {\n        vertical-align: middle;\n    }\n\n    .dataframe tbody tr th {\n        vertical-align: top;\n    }\n\n    .dataframe thead th {\n        text-align: right;\n    }\n</style>\n<table border=\"1\" class=\"dataframe\">\n  <thead>\n    <tr style=\"text-align: right;\">\n      <th></th>\n      <th>FILE_ID</th>\n      <th>DX_GROUP</th>\n      <th>DSM_IV_TR</th>\n      <th>SEX</th>\n      <th>AGE_AT_SCAN</th>\n      <th>HANDEDNESS_CATEGORY</th>\n      <th>SITE_ID</th>\n      <th>EXISTS</th>\n      <th>TIME_SLICE</th>\n    </tr>\n  </thead>\n  <tbody>\n    <tr>\n      <th>23595</th>\n      <td>UM_1_0050379</td>\n      <td>2</td>\n      <td>0</td>\n      <td>2</td>\n      <td>14.3</td>\n      <td>R</td>\n      <td>UM_1</td>\n      <td>1</td>\n      <td>290</td>\n    </tr>\n    <tr>\n      <th>23596</th>\n      <td>UM_1_0050379</td>\n      <td>2</td>\n      <td>0</td>\n      <td>2</td>\n      <td>14.3</td>\n      <td>R</td>\n      <td>UM_1</td>\n      <td>1</td>\n      <td>291</td>\n    </tr>\n    <tr>\n      <th>23597</th>\n      <td>UM_1_0050379</td>\n      <td>2</td>\n      <td>0</td>\n      <td>2</td>\n      <td>14.3</td>\n      <td>R</td>\n      <td>UM_1</td>\n      <td>1</td>\n      <td>292</td>\n    </tr>\n    <tr>\n      <th>23598</th>\n      <td>UM_1_0050379</td>\n      <td>2</td>\n      <td>0</td>\n      <td>2</td>\n      <td>14.3</td>\n      <td>R</td>\n      <td>UM_1</td>\n      <td>1</td>\n      <td>293</td>\n    </tr>\n    <tr>\n      <th>23599</th>\n      <td>UM_1_0050379</td>\n      <td>2</td>\n      <td>0</td>\n      <td>2</td>\n      <td>14.3</td>\n      <td>R</td>\n      <td>UM_1</td>\n      <td>1</td>\n      <td>294</td>\n    </tr>\n  </tbody>\n</table>\n</div>"
     },
     "execution_count": 15,
     "metadata": {},
     "output_type": "execute_result"
    }
   ],
   "source": [
    "merged_df = pd.concat(objs=[nyu, um1])\n",
    "merged_df.tail()"
   ],
   "metadata": {
    "collapsed": false,
    "ExecuteTime": {
     "end_time": "2024-03-04T12:08:36.046444Z",
     "start_time": "2024-03-04T12:08:36.032780Z"
    }
   },
   "id": "ed26fa37fc9c2af"
  },
  {
   "cell_type": "code",
   "execution_count": 16,
   "outputs": [],
   "source": [
    "merged_df.to_csv(path_or_buf='/Users/balazsmorvay/PycharmProjects/VAE/Configurations/ABIDE/NYU_UM1_merged.csv')"
   ],
   "metadata": {
    "collapsed": false,
    "ExecuteTime": {
     "end_time": "2024-03-04T12:08:54.253954Z",
     "start_time": "2024-03-04T12:08:54.167229Z"
    }
   },
   "id": "a857d00879225936"
  }
 ],
 "metadata": {
  "kernelspec": {
   "display_name": "Python 3",
   "language": "python",
   "name": "python3"
  },
  "language_info": {
   "codemirror_mode": {
    "name": "ipython",
    "version": 2
   },
   "file_extension": ".py",
   "mimetype": "text/x-python",
   "name": "python",
   "nbconvert_exporter": "python",
   "pygments_lexer": "ipython2",
   "version": "2.7.6"
  }
 },
 "nbformat": 4,
 "nbformat_minor": 5
}
